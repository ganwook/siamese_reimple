{
 "cells": [
  {
   "cell_type": "code",
   "execution_count": 1,
   "metadata": {},
   "outputs": [],
   "source": [
    "import torch\n",
    "import random\n",
    "import matplotlib.pyplot as plt"
   ]
  },
  {
   "cell_type": "code",
   "execution_count": 2,
   "metadata": {},
   "outputs": [],
   "source": [
    "from preprocess import VerificationDataset, split_eval, OneshotDataset"
   ]
  },
  {
   "cell_type": "code",
   "execution_count": 3,
   "metadata": {},
   "outputs": [],
   "source": [
    "random.seed(10)"
   ]
  },
  {
   "cell_type": "code",
   "execution_count": 4,
   "metadata": {},
   "outputs": [],
   "source": [
    "backPath = './data/background'\n",
    "evalPath = './data/evaluation'"
   ]
  },
  {
   "cell_type": "code",
   "execution_count": 5,
   "metadata": {},
   "outputs": [],
   "source": [
    "dic_idxs_eval = split_eval(backPath, evalPath)"
   ]
  },
  {
   "cell_type": "code",
   "execution_count": 6,
   "metadata": {},
   "outputs": [
    {
     "data": {
      "text/plain": [
       "{'drawer': {'back': [2, 4, 5, 6, 8, 9, 10, 11, 12, 14, 16, 19],\n",
       "  'test': [0, 3, 1, 18],\n",
       "  'valid': [17, 15, 13, 7]},\n",
       " 'alphabet': {'test': [16, 15, 10, 2, 7, 11, 5, 0, 6, 19],\n",
       "  'valid': [1, 3, 4, 8, 9, 12, 13, 14, 17, 18]}}"
      ]
     },
     "execution_count": 6,
     "metadata": {},
     "output_type": "execute_result"
    }
   ],
   "source": [
    "dic_idxs_eval"
   ]
  },
  {
   "cell_type": "markdown",
   "metadata": {},
   "source": [
    "## Verification Dataset"
   ]
  },
  {
   "cell_type": "code",
   "execution_count": 7,
   "metadata": {},
   "outputs": [
    {
     "name": "stdout",
     "output_type": "stream",
     "text": [
      "begin loading background dataset to the memory\n",
      "6 samples are generated.\n"
     ]
    }
   ],
   "source": [
    "BackgroundDataset = VerificationDataset(backPath, 6, \n",
    "                            dic_idxs_eval['drawer']['back'])"
   ]
  },
  {
   "cell_type": "code",
   "execution_count": 8,
   "metadata": {},
   "outputs": [
    {
     "name": "stdout",
     "output_type": "stream",
     "text": [
      "(105, 105) (105, 105)\n",
      "(105, 105) (105, 105)\n",
      "(105, 105) (105, 105)\n",
      "(105, 105) (105, 105)\n",
      "(105, 105) (105, 105)\n",
      "(105, 105) (105, 105)\n"
     ]
    },
    {
     "data": {
      "image/png": "[encoded data removed]",
      "text/plain": [
       "<Figure size 432x288 with 12 Axes>"
      ]
     },
     "metadata": {
      "needs_background": "light"
     },
     "output_type": "display_data"
    }
   ],
   "source": [
    "rows = len(BackgroundDataset)\n",
    "for i in range(1,2*rows,2):\n",
    "    img1, img2, label = BackgroundDataset[(i-1)/2]\n",
    "    print(img1.shape, img2.shape)\n",
    "    ax = plt.subplot(rows, 2, i)\n",
    "    ax = plt.imshow(img1)\n",
    "    ax = plt.subplot(rows, 2, i+1)\n",
    "    ax = plt.imshow(img2)"
   ]
  },
  {
   "cell_type": "markdown",
   "metadata": {},
   "source": [
    "## One-shot Learning Dataset"
   ]
  },
  {
   "cell_type": "code",
   "execution_count": 9,
   "metadata": {},
   "outputs": [
    {
     "name": "stdout",
     "output_type": "stream",
     "text": [
      "begin loading valid dataset to the memory\n",
      "400 samples are generated.\n"
     ]
    }
   ],
   "source": [
    "EvalDataset = OneshotDataset(evalPath, n_ways=20, idxs_eval=dic_idxs_eval, phase='valid')"
   ]
  },
  {
   "cell_type": "code",
   "execution_count": 10,
   "metadata": {},
   "outputs": [
    {
     "data": {
      "text/plain": [
       "400"
      ]
     },
     "execution_count": 10,
     "metadata": {},
     "output_type": "execute_result"
    }
   ],
   "source": [
    "len(EvalDataset)"
   ]
  },
  {
   "cell_type": "code",
   "execution_count": 13,
   "metadata": {},
   "outputs": [
    {
     "name": "stdout",
     "output_type": "stream",
     "text": [
      "{'ways': {0: './data/evaluation/Manipuri/character18/1336_8.png', 1: './data/evaluation/Manipuri/character33/1351_8.png', 2: './data/evaluation/Manipuri/character15/1333_8.png', 3: './data/evaluation/Manipuri/character16/1334_8.png', 4: './data/evaluation/Manipuri/character24/1342_8.png', 5: './data/evaluation/Manipuri/character13/1331_8.png', 6: './data/evaluation/Manipuri/character39/1357_8.png', 7: './data/evaluation/Manipuri/character12/1330_8.png', 8: './data/evaluation/Manipuri/character03/1321_8.png', 9: './data/evaluation/Manipuri/character01/1319_8.png', 10: './data/evaluation/Manipuri/character23/1341_8.png', 11: './data/evaluation/Manipuri/character11/1329_8.png', 12: './data/evaluation/Manipuri/character32/1350_8.png', 13: './data/evaluation/Manipuri/character30/1348_8.png', 14: './data/evaluation/Manipuri/character36/1354_8.png', 15: './data/evaluation/Manipuri/character10/1328_8.png', 16: './data/evaluation/Manipuri/character25/1343_8.png', 17: './data/evaluation/Manipuri/character29/1347_8.png', 18: './data/evaluation/Manipuri/character14/1332_8.png', 19: './data/evaluation/Manipuri/character21/1339_8.png'}, 'label': 19, 'input': './data/evaluation/Manipuri/character21/1339_16.png'}\n",
      "{'ways': {0: './data/evaluation/Manipuri/character18/1336_8.png', 1: './data/evaluation/Manipuri/character33/1351_8.png', 2: './data/evaluation/Manipuri/character15/1333_8.png', 3: './data/evaluation/Manipuri/character16/1334_8.png', 4: './data/evaluation/Manipuri/character24/1342_8.png', 5: './data/evaluation/Manipuri/character13/1331_8.png', 6: './data/evaluation/Manipuri/character39/1357_8.png', 7: './data/evaluation/Manipuri/character12/1330_8.png', 8: './data/evaluation/Manipuri/character03/1321_8.png', 9: './data/evaluation/Manipuri/character01/1319_8.png', 10: './data/evaluation/Manipuri/character23/1341_8.png', 11: './data/evaluation/Manipuri/character11/1329_8.png', 12: './data/evaluation/Manipuri/character32/1350_8.png', 13: './data/evaluation/Manipuri/character30/1348_8.png', 14: './data/evaluation/Manipuri/character36/1354_8.png', 15: './data/evaluation/Manipuri/character10/1328_8.png', 16: './data/evaluation/Manipuri/character25/1343_8.png', 17: './data/evaluation/Manipuri/character29/1347_8.png', 18: './data/evaluation/Manipuri/character14/1332_8.png', 19: './data/evaluation/Manipuri/character21/1339_8.png'}, 'label': 19, 'input': './data/evaluation/Manipuri/character21/1339_16.png'}\n"
     ]
    }
   ],
   "source": [
    "for i in range(2):\n",
    "    trial = EvalDataset[i]\n",
    "    print(trial)"
   ]
  },
  {
   "cell_type": "code",
   "execution_count": null,
   "metadata": {},
   "outputs": [],
   "source": []
  }
 ],
 "metadata": {
  "kernelspec": {
   "display_name": "Python 3",
   "language": "python",
   "name": "python3"
  },
  "language_info": {
   "codemirror_mode": {
    "name": "ipython",
    "version": 3
   },
   "file_extension": ".py",
   "mimetype": "text/x-python",
   "name": "python",
   "nbconvert_exporter": "python",
   "pygments_lexer": "ipython3",
   "version": "3.8.3"
  }
 },
 "nbformat": 4,
 "nbformat_minor": 4
}
