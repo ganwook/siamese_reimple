{
 "cells": [
  {
   "cell_type": "code",
   "execution_count": 1,
   "metadata": {},
   "outputs": [],
   "source": [
    "import torch\n",
    "import random\n",
    "import matplotlib.pyplot as plt"
   ]
  },
  {
   "cell_type": "code",
   "execution_count": 2,
   "metadata": {},
   "outputs": [],
   "source": [
    "from preprocess import VerificationDataset, split_eval"
   ]
  },
  {
   "cell_type": "code",
   "execution_count": 3,
   "metadata": {},
   "outputs": [],
   "source": [
    "random.seed(10)"
   ]
  },
  {
   "cell_type": "code",
   "execution_count": 4,
   "metadata": {},
   "outputs": [],
   "source": [
    "backPath = './data/background'\n",
    "evalPath = './data/evaluation'"
   ]
  },
  {
   "cell_type": "code",
   "execution_count": 5,
   "metadata": {},
   "outputs": [],
   "source": [
    "dic_idxs_eval = split_eval(backPath, evalPath)"
   ]
  },
  {
   "cell_type": "code",
   "execution_count": 6,
   "metadata": {},
   "outputs": [
    {
     "data": {
      "text/plain": [
       "{'drawer': {'back': [2, 4, 5, 6, 8, 9, 10, 11, 12, 14, 16, 19],\n",
       "  'test': [0, 3, 1, 18],\n",
       "  'valid': [17, 15, 13, 7]},\n",
       " 'alphabet': {'test': [16, 15, 10, 2, 7, 11, 5, 0, 6, 19],\n",
       "  'valid': [1, 3, 4, 8, 9, 12, 13, 14, 17, 18]}}"
      ]
     },
     "execution_count": 6,
     "metadata": {},
     "output_type": "execute_result"
    }
   ],
   "source": [
    "dic_idxs_eval"
   ]
  },
  {
   "cell_type": "code",
   "execution_count": 23,
   "metadata": {},
   "outputs": [],
   "source": [
    "BackgroundDataset = VerificationDataset(backPath, 6, \n",
    "                            dic_idxs_eval['drawer']['back'])"
   ]
  },
  {
   "cell_type": "code",
   "execution_count": 26,
   "metadata": {},
   "outputs": [
    {
     "name": "stdout",
     "output_type": "stream",
     "text": [
      "(105, 105) (105, 105)\n",
      "(105, 105) (105, 105)\n",
      "(105, 105) (105, 105)\n",
      "(105, 105) (105, 105)\n",
      "(105, 105) (105, 105)\n",
      "(105, 105) (105, 105)\n"
     ]
    },
    {
     "data": {
      "image/png": "[encoded data removed]",
      "text/plain": [
       "<Figure size 432x288 with 12 Axes>"
      ]
     },
     "metadata": {
      "needs_background": "light"
     },
     "output_type": "display_data"
    }
   ],
   "source": [
    "rows = len(BackgroundDataset)\n",
    "for i in range(1,2*rows,2):\n",
    "    img1, img2, label = BackgroundDataset[(i-1)/2]\n",
    "    print(img1.shape, img2.shape)\n",
    "    ax = plt.subplot(rows, 2, i)\n",
    "    ax = plt.imshow(img1)\n",
    "    ax = plt.subplot(rows, 2, i+1)\n",
    "    ax = plt.imshow(img2)"
   ]
  },
  {
   "cell_type": "code",
   "execution_count": null,
   "metadata": {},
   "outputs": [],
   "source": []
  }
 ],
 "metadata": {
  "kernelspec": {
   "display_name": "Python 3",
   "language": "python",
   "name": "python3"
  },
  "language_info": {
   "codemirror_mode": {
    "name": "ipython",
    "version": 3
   },
   "file_extension": ".py",
   "mimetype": "text/x-python",
   "name": "python",
   "nbconvert_exporter": "python",
   "pygments_lexer": "ipython3",
   "version": "3.8.3"
  }
 },
 "nbformat": 4,
 "nbformat_minor": 4
}
